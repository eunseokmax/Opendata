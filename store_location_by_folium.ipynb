{
 "cells": [
  {
   "cell_type": "code",
   "execution_count": 1,
   "metadata": {},
   "outputs": [
    {
     "name": "stdout",
     "output_type": "stream",
     "text": [
      " C 드라이브의 볼륨에는 이름이 없습니다.\n",
      " 볼륨 일련 번호: BE61-B85F\n",
      "\n",
      " c:\\BigData\\Opendata\\commercial_info_201812 디렉터리\n",
      "\n",
      "2019-02-12  오후 02:56    <DIR>          .\n",
      "2019-02-12  오후 02:56    <DIR>          ..\n",
      "2019-02-12  오후 02:48        42,574,428 commercial_static_2017_.csv\n",
      "2019-02-01  오후 05:27       229,866,473 commercial_store_201812_1.csv\n",
      "2019-02-01  오후 05:46       209,719,479 commercial_store_201812_2.csv\n",
      "2019-02-01  오후 05:53       350,993,669 commercial_store_201812_3.csv\n",
      "2019-02-01  오후 05:54       319,466,329 commercial_store_201812_4.csv\n",
      "               5개 파일       1,152,620,378 바이트\n",
      "               2개 디렉터리   9,385,795,584 바이트 남음\n"
     ]
    }
   ],
   "source": [
    "%ls commercial_info_201812"
   ]
  },
  {
   "cell_type": "code",
   "execution_count": 2,
   "metadata": {},
   "outputs": [],
   "source": [
    "import warnings\n",
    "warnings.filterwarnings('ignore')"
   ]
  },
  {
   "cell_type": "code",
   "execution_count": 3,
   "metadata": {},
   "outputs": [],
   "source": [
    "import pandas as pd\n",
    "import numpy as np\n",
    "from plotnine import *\n",
    "import folium"
   ]
  },
  {
   "cell_type": "code",
   "execution_count": 4,
   "metadata": {},
   "outputs": [
    {
     "data": {
      "text/html": [
       "<div>\n",
       "<style scoped>\n",
       "    .dataframe tbody tr th:only-of-type {\n",
       "        vertical-align: middle;\n",
       "    }\n",
       "\n",
       "    .dataframe tbody tr th {\n",
       "        vertical-align: top;\n",
       "    }\n",
       "\n",
       "    .dataframe thead th {\n",
       "        text-align: right;\n",
       "    }\n",
       "</style>\n",
       "<table border=\"1\" class=\"dataframe\">\n",
       "  <thead>\n",
       "    <tr style=\"text-align: right;\">\n",
       "      <th></th>\n",
       "      <th>상가업소번호</th>\n",
       "      <th>상호명</th>\n",
       "      <th>지점명</th>\n",
       "      <th>상권업종대분류코드</th>\n",
       "      <th>상권업종대분류명</th>\n",
       "      <th>상권업종중분류코드</th>\n",
       "      <th>상권업종중분류명</th>\n",
       "      <th>상권업종소분류코드</th>\n",
       "      <th>상권업종소분류명</th>\n",
       "      <th>표준산업분류코드</th>\n",
       "      <th>...</th>\n",
       "      <th>건물관리번호</th>\n",
       "      <th>건물명</th>\n",
       "      <th>도로명주소</th>\n",
       "      <th>구우편번호</th>\n",
       "      <th>신우편번호</th>\n",
       "      <th>동정보</th>\n",
       "      <th>층정보</th>\n",
       "      <th>호정보</th>\n",
       "      <th>경도</th>\n",
       "      <th>위도</th>\n",
       "    </tr>\n",
       "  </thead>\n",
       "  <tbody>\n",
       "    <tr>\n",
       "      <th>0</th>\n",
       "      <td>19905471</td>\n",
       "      <td>와라와라호프</td>\n",
       "      <td>NaN</td>\n",
       "      <td>Q</td>\n",
       "      <td>음식</td>\n",
       "      <td>Q09</td>\n",
       "      <td>유흥주점</td>\n",
       "      <td>Q09A01</td>\n",
       "      <td>호프/맥주</td>\n",
       "      <td>I56219</td>\n",
       "      <td>...</td>\n",
       "      <td>1168010600106040000014378</td>\n",
       "      <td>대치상가</td>\n",
       "      <td>서울특별시 강남구 남부순환로 2933</td>\n",
       "      <td>135280</td>\n",
       "      <td>6280.0</td>\n",
       "      <td>NaN</td>\n",
       "      <td>1</td>\n",
       "      <td>NaN</td>\n",
       "      <td>127.061026</td>\n",
       "      <td>37.493922</td>\n",
       "    </tr>\n",
       "    <tr>\n",
       "      <th>1</th>\n",
       "      <td>19911397</td>\n",
       "      <td>커피빈코리아선릉로93길점</td>\n",
       "      <td>코리아선릉로93길점</td>\n",
       "      <td>Q</td>\n",
       "      <td>음식</td>\n",
       "      <td>Q12</td>\n",
       "      <td>커피점/카페</td>\n",
       "      <td>Q12A01</td>\n",
       "      <td>커피전문점/카페/다방</td>\n",
       "      <td>I56220</td>\n",
       "      <td>...</td>\n",
       "      <td>1168010100106960042022041</td>\n",
       "      <td>NaN</td>\n",
       "      <td>서울특별시 강남구 선릉로93길 6</td>\n",
       "      <td>135080</td>\n",
       "      <td>6149.0</td>\n",
       "      <td>NaN</td>\n",
       "      <td>1</td>\n",
       "      <td>NaN</td>\n",
       "      <td>127.047883</td>\n",
       "      <td>37.505675</td>\n",
       "    </tr>\n",
       "    <tr>\n",
       "      <th>2</th>\n",
       "      <td>19911801</td>\n",
       "      <td>프로포즈</td>\n",
       "      <td>NaN</td>\n",
       "      <td>Q</td>\n",
       "      <td>음식</td>\n",
       "      <td>Q09</td>\n",
       "      <td>유흥주점</td>\n",
       "      <td>Q09A01</td>\n",
       "      <td>호프/맥주</td>\n",
       "      <td>I56219</td>\n",
       "      <td>...</td>\n",
       "      <td>1154510200101620001017748</td>\n",
       "      <td>NaN</td>\n",
       "      <td>서울특별시 금천구 가산로 34-6</td>\n",
       "      <td>153010</td>\n",
       "      <td>8545.0</td>\n",
       "      <td>NaN</td>\n",
       "      <td>1</td>\n",
       "      <td>NaN</td>\n",
       "      <td>126.899220</td>\n",
       "      <td>37.471711</td>\n",
       "    </tr>\n",
       "    <tr>\n",
       "      <th>3</th>\n",
       "      <td>19912201</td>\n",
       "      <td>싱싱커피&amp;토스트</td>\n",
       "      <td>NaN</td>\n",
       "      <td>Q</td>\n",
       "      <td>음식</td>\n",
       "      <td>Q07</td>\n",
       "      <td>패스트푸드</td>\n",
       "      <td>Q07A10</td>\n",
       "      <td>토스트전문</td>\n",
       "      <td>I56192</td>\n",
       "      <td>...</td>\n",
       "      <td>2653010400105780000002037</td>\n",
       "      <td>산업용품유통상가</td>\n",
       "      <td>부산광역시 사상구 괘감로 37</td>\n",
       "      <td>617726</td>\n",
       "      <td>46977.0</td>\n",
       "      <td>NaN</td>\n",
       "      <td>1</td>\n",
       "      <td>26</td>\n",
       "      <td>128.980455</td>\n",
       "      <td>35.159774</td>\n",
       "    </tr>\n",
       "    <tr>\n",
       "      <th>4</th>\n",
       "      <td>19932756</td>\n",
       "      <td>가락사우나내스낵</td>\n",
       "      <td>NaN</td>\n",
       "      <td>F</td>\n",
       "      <td>생활서비스</td>\n",
       "      <td>F09</td>\n",
       "      <td>대중목욕탕/휴게</td>\n",
       "      <td>F09A02</td>\n",
       "      <td>사우나/증기탕/온천</td>\n",
       "      <td>S96121</td>\n",
       "      <td>...</td>\n",
       "      <td>1171010500102560005010490</td>\n",
       "      <td>NaN</td>\n",
       "      <td>서울특별시 송파구 가락로 71</td>\n",
       "      <td>138846</td>\n",
       "      <td>5690.0</td>\n",
       "      <td>NaN</td>\n",
       "      <td>1</td>\n",
       "      <td>NaN</td>\n",
       "      <td>127.104071</td>\n",
       "      <td>37.500249</td>\n",
       "    </tr>\n",
       "  </tbody>\n",
       "</table>\n",
       "<p>5 rows × 39 columns</p>\n",
       "</div>"
      ],
      "text/plain": [
       "     상가업소번호            상호명         지점명 상권업종대분류코드 상권업종대분류명 상권업종중분류코드  상권업종중분류명  \\\n",
       "0  19905471         와라와라호프         NaN         Q       음식       Q09      유흥주점   \n",
       "1  19911397  커피빈코리아선릉로93길점  코리아선릉로93길점         Q       음식       Q12    커피점/카페   \n",
       "2  19911801           프로포즈         NaN         Q       음식       Q09      유흥주점   \n",
       "3  19912201       싱싱커피&토스트         NaN         Q       음식       Q07     패스트푸드   \n",
       "4  19932756       가락사우나내스낵         NaN         F    생활서비스       F09  대중목욕탕/휴게   \n",
       "\n",
       "  상권업종소분류코드     상권업종소분류명 표준산업분류코드    ...                         건물관리번호  \\\n",
       "0    Q09A01        호프/맥주   I56219    ...      1168010600106040000014378   \n",
       "1    Q12A01  커피전문점/카페/다방   I56220    ...      1168010100106960042022041   \n",
       "2    Q09A01        호프/맥주   I56219    ...      1154510200101620001017748   \n",
       "3    Q07A10        토스트전문   I56192    ...      2653010400105780000002037   \n",
       "4    F09A02   사우나/증기탕/온천   S96121    ...      1171010500102560005010490   \n",
       "\n",
       "        건물명                 도로명주소   구우편번호    신우편번호  동정보 층정보  호정보          경도  \\\n",
       "0      대치상가  서울특별시 강남구 남부순환로 2933  135280   6280.0  NaN   1  NaN  127.061026   \n",
       "1       NaN    서울특별시 강남구 선릉로93길 6  135080   6149.0  NaN   1  NaN  127.047883   \n",
       "2       NaN    서울특별시 금천구 가산로 34-6  153010   8545.0  NaN   1  NaN  126.899220   \n",
       "3  산업용품유통상가      부산광역시 사상구 괘감로 37  617726  46977.0  NaN   1   26  128.980455   \n",
       "4       NaN      서울특별시 송파구 가락로 71  138846   5690.0  NaN   1  NaN  127.104071   \n",
       "\n",
       "          위도  \n",
       "0  37.493922  \n",
       "1  37.505675  \n",
       "2  37.471711  \n",
       "3  35.159774  \n",
       "4  37.500249  \n",
       "\n",
       "[5 rows x 39 columns]"
      ]
     },
     "execution_count": 4,
     "metadata": {},
     "output_type": "execute_result"
    }
   ],
   "source": [
    "shop_2018 = pd.read_csv('c://BigData/Opendata/commercial_info_201812/commercial_store_201812_1.csv', encoding='cp949')\n",
    "shop_2018.head()"
   ]
  },
  {
   "cell_type": "code",
   "execution_count": 5,
   "metadata": {},
   "outputs": [
    {
     "data": {
      "text/plain": [
       "(500527, 39)"
      ]
     },
     "execution_count": 5,
     "metadata": {},
     "output_type": "execute_result"
    }
   ],
   "source": [
    "shop_2018.shape"
   ]
  },
  {
   "cell_type": "code",
   "execution_count": 7,
   "metadata": {},
   "outputs": [
    {
     "data": {
      "text/plain": [
       "(20649, 39)"
      ]
     },
     "execution_count": 7,
     "metadata": {},
     "output_type": "execute_result"
    }
   ],
   "source": [
    "coffee = shop_2018[shop_2018['상권업종소분류명'].str.contains('커피')]\n",
    "coffee.shape"
   ]
  },
  {
   "cell_type": "code",
   "execution_count": 8,
   "metadata": {},
   "outputs": [
    {
     "data": {
      "text/plain": [
       "Index(['상가업소번호', '상호명', '지점명', '상권업종대분류코드', '상권업종대분류명', '상권업종중분류코드',\n",
       "       '상권업종중분류명', '상권업종소분류코드', '상권업종소분류명', '표준산업분류코드', '표준산업분류명', '시도코드',\n",
       "       '시도명', '시군구코드', '시군구명', '행정동코드', '행정동명', '법정동코드', '법정동명', '지번코드',\n",
       "       '대지구분코드', '대지구분명', '지번본번지', '지번부번지', '지번주소', '도로명코드', '도로명', '건물본번지',\n",
       "       '건물부번지', '건물관리번호', '건물명', '도로명주소', '구우편번호', '신우편번호', '동정보', '층정보',\n",
       "       '호정보', '경도', '위도'],\n",
       "      dtype='object')"
      ]
     },
     "execution_count": 8,
     "metadata": {},
     "output_type": "execute_result"
    }
   ],
   "source": [
    "coffee.columns"
   ]
  },
  {
   "cell_type": "code",
   "execution_count": 9,
   "metadata": {},
   "outputs": [
    {
     "data": {
      "text/plain": [
       "(13719,)"
      ]
     },
     "execution_count": 9,
     "metadata": {},
     "output_type": "execute_result"
    }
   ],
   "source": [
    "coffee['상호명'].unique().shape"
   ]
  },
  {
   "cell_type": "code",
   "execution_count": 11,
   "metadata": {},
   "outputs": [
    {
     "data": {
      "text/plain": [
       "array(['스타벅스종로3가점', '스타벅스커피여의도IFC1F', '스타벅스', '스타벅스신림사거리점', '스타벅스커피홍대역',\n",
       "       '스타벅스올림픽평화의문점', '스타벅스새문안로점', '스타벅스연신내역', '스타벅스연세백양로점',\n",
       "       '스타벅스가락시장역점', '스타벅스외대점', '스타벅스석촌역', '스타벅스명지대점', '스타벅스압구정로데오역',\n",
       "       '스타벅스연대동문', '스타벅스강남삼성타운점', '스타벅스서울대입구역점', '스타벅스신림점', '스타벅스광장점',\n",
       "       '스타벅스사당점', '스타벅스신촌명물거리점', '스타벅스명동미래', '스타벅스건국클래식점', '스타벅스연희DT점',\n",
       "       '스타벅스삼선교점', '스타벅스충정타워', '스타벅스올림픽공원북문점', '스타벅스커피여의도호성', '스타벅스이수역점',\n",
       "       '스타벅스방배카페입구', '스타벅스종각점', '스타벅스W-MALL점', '스타벅스용산역점', '스타벅스마포일진빌딩점',\n",
       "       '스타벅스천호로데오점', '스타벅스중계역점', '스타벅스명동메트로', '스타벅스마포아크로타워점',\n",
       "       '스타벅스남부터미널2점', '스타벅스구로디지털로점', '스타벅스중랑구청점', '스타벅스논현힐탑', '스타벅스종로관수점',\n",
       "       '스타벅스부산서면', '스타벅스삼성도심공항점', '스타벅스종로2가점', '스타벅스선정릉역점', '스타벅스미아역점',\n",
       "       '스타벅스선릉로점', '스타벅스커피신도림디큐브시티B2', '스타벅스역삼럭키', '스타벅스이태원거리점',\n",
       "       '스타벅스구로에이스트윈타워1점', '스타벅스을지로입구', '스타벅스교대역점', '스타벅스서울중앙우체국점',\n",
       "       '스타벅스삼성교점', '스타벅스남산스테이트', '스타벅스구로하이엔드점', '스타벅스명일이마트점',\n",
       "       '스타벅스조선호텔후문', '스타벅스목동점', '스타벅스커리학동사거리점', '스타벅스서울교대점',\n",
       "       '스타벅스강북구청사거리점', '스타벅스청담사거리점', '스타벅스방이역점', '스타벅스종로평창', '스타벅스서초파라곤점',\n",
       "       '스타벅스신압구정점', '스타벅스강변역점', '스타벅스올림픽공원남문점', '스타벅스명동중앙로', '스타벅스광화문역점',\n",
       "       '스타벅스서소문배재', '스타벅스세종로점', '스타벅스여의도점', '스타벅스커피가산그레이트', '스타벅스경복궁역',\n",
       "       '스타벅스을지로센타', '스타벅스예술의전당점', '스타벅스중랑역점', '스타벅스상봉역점', '스타벅스학여울점',\n",
       "       '스타벅스사당로데오점', '스타벅스구파발역점', '스타벅스숙대입구역점', '스타벅스금정이마트점', '스타벅스신천역점',\n",
       "       '스타벅스서면센트럴스퀘어점', '스타벅스커피신도림디큐브시티2F', '스타벅스서면중앙점', '스타벅스가든파이브',\n",
       "       '스타벅스커피가산브이타워', '스타벅스동교삼거리점', '스타벅스차병원사거리점', '스타벅스뱅뱅사거리점',\n",
       "       '스타벅스센텀신세계B1', '스타벅스경복아파트점', '스타벅스석촌서호점', '스타벅스동교점', '스타벅스월계이마트점',\n",
       "       '스타벅스광화문점', '스타벅스구산역점', '스타벅스상일동점', '스타벅스삼청동점', '스타벅스신촌점',\n",
       "       '스타벅스상암DMC센트럴몰점', '스타벅스숭실대점', '스타벅스역삼역점', '스타벅스합정메세나몰점', '스타벅스대치점',\n",
       "       '스타벅스홍대삼거리점', '스타벅스홍대갤러리점', '스타벅스석촌호수점', '스타벅스광운대점', '스타벅스목동5단지점',\n",
       "       '스타벅스청량리역점', '스타벅스연신내역점', '스타벅스부산서면점', '스타벅스숙대점', '스타벅스서소문배재점',\n",
       "       '스타벅스잠실점', '스타벅스한성대입구역점', '스타벅스송파사거리점', '스타벅스서교점', '스타벅스가산디지털단지점',\n",
       "       '스타벅스금천독산점', '스타벅스길동사거리점', '스타벅스노원케이티점', '스타벅스오목교역점',\n",
       "       '스타벅스코엑스사거리점', '스타벅스하단역점', '스타벅스황학캐슬점', '스타벅스고대프라자점',\n",
       "       '스타벅스센텀그린타워점', '스타벅스부산초량점', '스타벅스명동역점', '스타벅스강남에비뉴점',\n",
       "       'PPANGJIP(스타벅스재능기부카페2호점)', '스타벅스월드컵경기장점', '스타벅스압구정로데오역점',\n",
       "       '스타벅스상암디지털큐브점상암디지털큐브점', '스타벅스명동길점', '스타벅스마포트라팰점', '스타벅스종로수송점',\n",
       "       '스타벅스방배카페입구점', '스타벅스엔터식스한양대점', '스타벅스동묘앞역점동묘앞역점', '스타벅스동여의도점',\n",
       "       '스타벅스종암점', '스타벅스신설동역점', '스타벅스화곡동점', '스타벅스미아사거리역점', '스타벅스소공로북창점',\n",
       "       '스타벅스포스코사거리점', '스타벅스서교동사거리점', '스타벅스명지오션시티점', '스타벅스부산교대역점',\n",
       "       '스타벅스역삼럭키점', '스타벅스커피마포염리', '스타벅스낙성대DT점', '스타벅스한남동점', '스타벅스성신여대정문',\n",
       "       '스타벅스송파방이DT점', '스타벅스둔촌동점', '스타벅스동의대역점동의대역점', '스타벅스해운대점',\n",
       "       '스타벅스충정타워점', '스타벅스마포이마트점', '스타벅스숭실대입구역점', '스타벅스약수역점', '스타벅스회현역점',\n",
       "       '스타벅스명동입구점', '스타벅스중구저동점', '스타벅스신촌오거리점', '스타벅스염창역점', '스타벅스강동역점',\n",
       "       '스타벅스대치은마사거리점', '스타벅스부산재송DT점', '스타벅스청계산입구역점', '스타벅스합정점',\n",
       "       '스타벅스을숙도강변DT점', '스타벅스가산디지털단지역점', '스타벅스압구정점', '스타벅스동부산DT',\n",
       "       '스타벅스영등포신길DT점', '스타벅스대치사거리점', '스타벅스부산프리미엄점', '스타벅스사직구장점',\n",
       "       '스타벅스화곡DT점', '스타벅스광안비치점', '스타벅스강남우성점', '스타벅스양천향교역점', '스타벅스신세계본점',\n",
       "       '스타벅스송파구청점', '스타벅스신사가로수점', '스타벅스송파위례점', '스타벅스연산시티타워점',\n",
       "       '스타벅스문정하비오점', '스타벅스서강광흥창역점', '스타벅스서울대역점', '스타벅스청담영동대로점',\n",
       "       '스타벅스부산재송DT', '스타벅스문정역점', '스타벅스황학사거리점', '스타벅스경희대삼거리점',\n",
       "       '스타벅스신세계본점5F', '스타벅스국제시장점', '스타벅스이수역사거리점', '스타벅스공릉역점', '스타벅스외대정문점',\n",
       "       '스타벅스강남오거리점', '스타벅스커피강남대로신사', '스타벅스잠실대교남단점', '스타벅스자갈치역점',\n",
       "       '스타벅스동명대DT점', '스타벅스구로디지털타워점', '스타벅스강남점', '스타벅스노원마들역점',\n",
       "       '스타벅스마곡나루역점', '스타벅스신대방삼거리역점', '스타벅스신도림점', '스타벅스역점', '스타벅스공덕',\n",
       "       '스타벅스방화DT'], dtype=object)"
      ]
     },
     "execution_count": 11,
     "metadata": {},
     "output_type": "execute_result"
    }
   ],
   "source": [
    "coffee.loc[coffee['상호명'].str.contains('스타벅스'),'상호명'].unique()"
   ]
  },
  {
   "cell_type": "code",
   "execution_count": 12,
   "metadata": {},
   "outputs": [
    {
     "data": {
      "text/plain": [
       "0"
      ]
     },
     "execution_count": 12,
     "metadata": {},
     "output_type": "execute_result"
    }
   ],
   "source": [
    "coffee['시도명'].isnull().sum()"
   ]
  },
  {
   "cell_type": "code",
   "execution_count": 13,
   "metadata": {},
   "outputs": [
    {
     "data": {
      "text/plain": [
       "서울특별시    16127\n",
       "부산광역시     4522\n",
       "Name: 시도명, dtype: int64"
      ]
     },
     "execution_count": 13,
     "metadata": {},
     "output_type": "execute_result"
    }
   ],
   "source": [
    "coffee['시도명'].value_counts()"
   ]
  },
  {
   "cell_type": "code",
   "execution_count": 15,
   "metadata": {},
   "outputs": [
    {
     "data": {
      "text/plain": [
       "array(['강남구', '영등포구', '중구', '서초구', '성북구', '구로구', '마포구', '종로구', '도봉구',\n",
       "       '남구', '기장군', '광진구', '은평구', '서대문구', '해운대구', '양천구', '관악구', '성동구',\n",
       "       '사상구', '금천구', '송파구', '동대문구', '사하구', '강서구', '금정구', '동작구', '중랑구',\n",
       "       '북구', '강동구', '용산구', '연제구', '노원구', '부산진구', '강북구', '수영구', '동구',\n",
       "       '동래구', '영도구', '서구'], dtype=object)"
      ]
     },
     "execution_count": 15,
     "metadata": {},
     "output_type": "execute_result"
    }
   ],
   "source": [
    "coffee['시군구명'].unique()"
   ]
  },
  {
   "cell_type": "code",
   "execution_count": 16,
   "metadata": {},
   "outputs": [
    {
     "data": {
      "text/plain": [
       "커피전문점/카페/다방    20649\n",
       "Name: 상권업종소분류명, dtype: int64"
      ]
     },
     "execution_count": 16,
     "metadata": {},
     "output_type": "execute_result"
    }
   ],
   "source": [
    "coffee['상권업종소분류명'].value_counts()"
   ]
  },
  {
   "cell_type": "code",
   "execution_count": 19,
   "metadata": {},
   "outputs": [],
   "source": [
    "from matplotlib import font_manager, rc \n",
    "path= 'c:/Windows/Fonts/malgun.ttf'\n",
    "font_name = font_manager.FontProperties(fname=path).get_name()\n",
    "rc('font', family=font_name )"
   ]
  },
  {
   "cell_type": "code",
   "execution_count": 21,
   "metadata": {},
   "outputs": [
    {
     "data": {
      "image/png": "[encoded data removed]",
      "text/plain": [
       "<Figure size 640x480 with 1 Axes>"
      ]
     },
     "metadata": {},
     "output_type": "display_data"
    },
    {
     "data": {
      "text/plain": [
       "<ggplot: (156914583181)>"
      ]
     },
     "execution_count": 21,
     "metadata": {},
     "output_type": "execute_result"
    }
   ],
   "source": [
    "(ggplot(shop_2018[:1000])\n",
    " + aes(x='경도',y='위도')\n",
    " + geom_point()\n",
    " + theme(text=element_text(family=font_name)))"
   ]
  },
  {
   "cell_type": "code",
   "execution_count": 22,
   "metadata": {},
   "outputs": [
    {
     "data": {
      "text/plain": [
       "(346131, 39)"
      ]
     },
     "execution_count": 22,
     "metadata": {},
     "output_type": "execute_result"
    }
   ],
   "source": [
    "df_seoul = shop_2018.loc[shop_2018['시도명'].str.contains('서울')].copy()\n",
    "df_seoul.shape"
   ]
  },
  {
   "cell_type": "code",
   "execution_count": 23,
   "metadata": {},
   "outputs": [
    {
     "data": {
      "text/plain": [
       "상가업소번호            0\n",
       "상호명               0\n",
       "지점명          295868\n",
       "상권업종대분류코드         0\n",
       "상권업종대분류명          0\n",
       "상권업종중분류코드         0\n",
       "상권업종중분류명          0\n",
       "상권업종소분류코드         0\n",
       "상권업종소분류명          0\n",
       "표준산업분류코드      20018\n",
       "표준산업분류명       20018\n",
       "시도코드              0\n",
       "시도명               0\n",
       "시군구코드             0\n",
       "시군구명              0\n",
       "행정동코드             0\n",
       "행정동명              0\n",
       "법정동코드             0\n",
       "법정동명              0\n",
       "지번코드              0\n",
       "대지구분코드            0\n",
       "대지구분명             0\n",
       "지번본번지             0\n",
       "지번부번지         67123\n",
       "지번주소              0\n",
       "도로명코드             0\n",
       "도로명               0\n",
       "건물본번지             0\n",
       "건물부번지        304059\n",
       "건물관리번호            0\n",
       "건물명          180914\n",
       "도로명주소             0\n",
       "구우편번호             0\n",
       "신우편번호             2\n",
       "동정보          320099\n",
       "층정보          103184\n",
       "호정보          297845\n",
       "경도                0\n",
       "위도                0\n",
       "dtype: int64"
      ]
     },
     "execution_count": 23,
     "metadata": {},
     "output_type": "execute_result"
    }
   ],
   "source": [
    "df_seoul.isnull().sum()"
   ]
  },
  {
   "cell_type": "code",
   "execution_count": 24,
   "metadata": {},
   "outputs": [
    {
     "data": {
      "text/plain": [
       "한식/백반/한정식      23863\n",
       "커피전문점/카페/다방    16127\n",
       "여성미용실          16020\n",
       "부동산중개          12537\n",
       "일반의류            9722\n",
       "편의점             8406\n",
       "종합소매            7555\n",
       "호프/맥주           7366\n",
       "라면김밥분식          6522\n",
       "학원-입시           6350\n",
       "비만/피부관리         5495\n",
       "세탁소/빨래방         5397\n",
       "화장품판매점          5006\n",
       "후라이드/양념치킨       4393\n",
       "수퍼마켓            4366\n",
       "어린이집            4325\n",
       "갈비/삼겹살          4253\n",
       "학원(종합)          4075\n",
       "노래방             3803\n",
       "정통양식/경양식        3552\n",
       "제과점             3482\n",
       "인쇄종합            3474\n",
       "자동차정비/카센타       3295\n",
       "핸드폰소매           3090\n",
       "약국              3024\n",
       "학원-외국어/어학       2952\n",
       "중국음식/중국집        2712\n",
       "발/네일케어          2686\n",
       "피아노/바이올린/기타     2569\n",
       "국수/만두/칼국수       2533\n",
       "               ...  \n",
       "호신용품판매             1\n",
       "종교서적판매             1\n",
       "수입담배판매             1\n",
       "학원-지점토             1\n",
       "실외야구연습장            1\n",
       "토종닭전문              1\n",
       "회갑연서비스             1\n",
       "낚시터                1\n",
       "주말농장               1\n",
       "불교서적판매             1\n",
       "제기용품판매             1\n",
       "공연티켓예매             1\n",
       "음악감상               1\n",
       "학원-세탁기술            1\n",
       "학원-스튜디어스           1\n",
       "영사기판매              1\n",
       "학원-TV기술            1\n",
       "학원-섬유기술            1\n",
       "학원-간판디자인           1\n",
       "접골원                1\n",
       "유아식품판매             1\n",
       "학원-편물기술            1\n",
       "패션쇼대행              1\n",
       "채식/한식부페            1\n",
       "피아노운반              1\n",
       "현미경/망원경판매          1\n",
       "테니스장               1\n",
       "가구판매-장농            1\n",
       "롤러스케이트장            1\n",
       "사진/원고/기록물대여        1\n",
       "Name: 상권업종소분류명, Length: 693, dtype: int64"
      ]
     },
     "execution_count": 24,
     "metadata": {},
     "output_type": "execute_result"
    }
   ],
   "source": [
    "df_seoul['상권업종소분류명'].value_counts()"
   ]
  },
  {
   "cell_type": "code",
   "execution_count": 25,
   "metadata": {},
   "outputs": [
    {
     "data": {
      "text/html": [
       "<div>\n",
       "<style scoped>\n",
       "    .dataframe tbody tr th:only-of-type {\n",
       "        vertical-align: middle;\n",
       "    }\n",
       "\n",
       "    .dataframe tbody tr th {\n",
       "        vertical-align: top;\n",
       "    }\n",
       "\n",
       "    .dataframe thead th {\n",
       "        text-align: right;\n",
       "    }\n",
       "</style>\n",
       "<table border=\"1\" class=\"dataframe\">\n",
       "  <thead>\n",
       "    <tr style=\"text-align: right;\">\n",
       "      <th></th>\n",
       "      <th>상호명</th>\n",
       "      <th>지점명</th>\n",
       "      <th>상권업종대분류코드</th>\n",
       "      <th>상권업종대분류명</th>\n",
       "      <th>상권업종중분류코드</th>\n",
       "      <th>상권업종중분류명</th>\n",
       "      <th>상권업종소분류코드</th>\n",
       "      <th>상권업종소분류명</th>\n",
       "      <th>표준산업분류코드</th>\n",
       "      <th>표준산업분류명</th>\n",
       "      <th>...</th>\n",
       "      <th>법정동명</th>\n",
       "      <th>대지구분명</th>\n",
       "      <th>지번주소</th>\n",
       "      <th>도로명</th>\n",
       "      <th>건물관리번호</th>\n",
       "      <th>건물명</th>\n",
       "      <th>도로명주소</th>\n",
       "      <th>동정보</th>\n",
       "      <th>층정보</th>\n",
       "      <th>호정보</th>\n",
       "    </tr>\n",
       "  </thead>\n",
       "  <tbody>\n",
       "    <tr>\n",
       "      <th>count</th>\n",
       "      <td>346131</td>\n",
       "      <td>50263</td>\n",
       "      <td>346131</td>\n",
       "      <td>346131</td>\n",
       "      <td>346131</td>\n",
       "      <td>346131</td>\n",
       "      <td>346131</td>\n",
       "      <td>346131</td>\n",
       "      <td>326113</td>\n",
       "      <td>326113</td>\n",
       "      <td>...</td>\n",
       "      <td>346131</td>\n",
       "      <td>346131</td>\n",
       "      <td>346131</td>\n",
       "      <td>346131</td>\n",
       "      <td>346131</td>\n",
       "      <td>165217</td>\n",
       "      <td>346131</td>\n",
       "      <td>26032</td>\n",
       "      <td>242947</td>\n",
       "      <td>48286</td>\n",
       "    </tr>\n",
       "    <tr>\n",
       "      <th>unique</th>\n",
       "      <td>239722</td>\n",
       "      <td>19715</td>\n",
       "      <td>9</td>\n",
       "      <td>9</td>\n",
       "      <td>94</td>\n",
       "      <td>94</td>\n",
       "      <td>693</td>\n",
       "      <td>693</td>\n",
       "      <td>210</td>\n",
       "      <td>210</td>\n",
       "      <td>...</td>\n",
       "      <td>465</td>\n",
       "      <td>2</td>\n",
       "      <td>125357</td>\n",
       "      <td>11895</td>\n",
       "      <td>125940</td>\n",
       "      <td>25625</td>\n",
       "      <td>125141</td>\n",
       "      <td>927</td>\n",
       "      <td>122</td>\n",
       "      <td>2539</td>\n",
       "    </tr>\n",
       "    <tr>\n",
       "      <th>top</th>\n",
       "      <td>점프셈교실</td>\n",
       "      <td>본점</td>\n",
       "      <td>Q</td>\n",
       "      <td>음식</td>\n",
       "      <td>Q01</td>\n",
       "      <td>한식</td>\n",
       "      <td>Q01A01</td>\n",
       "      <td>한식/백반/한정식</td>\n",
       "      <td>I56111</td>\n",
       "      <td>한식 음식점업</td>\n",
       "      <td>...</td>\n",
       "      <td>신림동</td>\n",
       "      <td>대지</td>\n",
       "      <td>서울특별시 종로구 종로6가 262-1</td>\n",
       "      <td>서울특별시 서초구 신반포로</td>\n",
       "      <td>1111016400102700003012054</td>\n",
       "      <td>동대문종합시장</td>\n",
       "      <td>서울특별시 종로구 종로 266</td>\n",
       "      <td>1</td>\n",
       "      <td>1</td>\n",
       "      <td>1</td>\n",
       "    </tr>\n",
       "    <tr>\n",
       "      <th>freq</th>\n",
       "      <td>1709</td>\n",
       "      <td>304</td>\n",
       "      <td>113212</td>\n",
       "      <td>113212</td>\n",
       "      <td>36377</td>\n",
       "      <td>36377</td>\n",
       "      <td>23863</td>\n",
       "      <td>23863</td>\n",
       "      <td>44724</td>\n",
       "      <td>44724</td>\n",
       "      <td>...</td>\n",
       "      <td>6930</td>\n",
       "      <td>345771</td>\n",
       "      <td>975</td>\n",
       "      <td>3246</td>\n",
       "      <td>1007</td>\n",
       "      <td>1010</td>\n",
       "      <td>994</td>\n",
       "      <td>4540</td>\n",
       "      <td>163773</td>\n",
       "      <td>5708</td>\n",
       "    </tr>\n",
       "  </tbody>\n",
       "</table>\n",
       "<p>4 rows × 23 columns</p>\n",
       "</div>"
      ],
      "text/plain": [
       "           상호명    지점명 상권업종대분류코드 상권업종대분류명 상권업종중분류코드 상권업종중분류명 상권업종소분류코드  \\\n",
       "count   346131  50263    346131   346131    346131   346131    346131   \n",
       "unique  239722  19715         9        9        94       94       693   \n",
       "top      점프셈교실     본점         Q       음식       Q01       한식    Q01A01   \n",
       "freq      1709    304    113212   113212     36377    36377     23863   \n",
       "\n",
       "         상권업종소분류명 표준산업분류코드  표준산업분류명  ...      법정동명   대지구분명  \\\n",
       "count      346131   326113   326113  ...    346131  346131   \n",
       "unique        693      210      210  ...       465       2   \n",
       "top     한식/백반/한정식   I56111  한식 음식점업  ...       신림동      대지   \n",
       "freq        23863    44724    44724  ...      6930  345771   \n",
       "\n",
       "                        지번주소             도로명                     건물관리번호  \\\n",
       "count                 346131          346131                     346131   \n",
       "unique                125357           11895                     125940   \n",
       "top     서울특별시 종로구 종로6가 262-1  서울특별시 서초구 신반포로  1111016400102700003012054   \n",
       "freq                     975            3246                       1007   \n",
       "\n",
       "            건물명             도로명주소    동정보     층정보    호정보  \n",
       "count    165217            346131  26032  242947  48286  \n",
       "unique    25625            125141    927     122   2539  \n",
       "top     동대문종합시장  서울특별시 종로구 종로 266      1       1      1  \n",
       "freq       1010               994   4540  163773   5708  \n",
       "\n",
       "[4 rows x 23 columns]"
      ]
     },
     "execution_count": 25,
     "metadata": {},
     "output_type": "execute_result"
    }
   ],
   "source": [
    "df_seoul.describe(include=np.object)"
   ]
  },
  {
   "cell_type": "code",
   "execution_count": 28,
   "metadata": {},
   "outputs": [
    {
     "data": {
      "text/plain": [
       "Index(['상가업소번호', '상호명', '지점명', '상권업종대분류코드', '상권업종대분류명', '상권업종중분류코드',\n",
       "       '상권업종중분류명', '상권업종소분류코드', '상권업종소분류명', '표준산업분류코드', '표준산업분류명', '시도코드',\n",
       "       '시도명', '시군구코드', '시군구명', '행정동코드', '행정동명', '법정동코드', '법정동명', '지번코드',\n",
       "       '대지구분코드', '대지구분명', '지번본번지', '지번부번지', '지번주소', '도로명코드', '도로명', '건물본번지',\n",
       "       '건물부번지', '건물관리번호', '건물명', '도로명주소', '구우편번호', '신우편번호', '동정보', '층정보',\n",
       "       '호정보', '경도', '위도'],\n",
       "      dtype='object')"
      ]
     },
     "execution_count": 28,
     "metadata": {},
     "output_type": "execute_result"
    }
   ],
   "source": [
    "df_seoul.columns"
   ]
  },
  {
   "cell_type": "code",
   "execution_count": 33,
   "metadata": {},
   "outputs": [
    {
     "name": "stdout",
     "output_type": "stream",
     "text": [
      "<class 'pandas.core.frame.DataFrame'>\n",
      "Int64Index: 346131 entries, 0 to 500526\n",
      "Data columns (total 39 columns):\n",
      "상가업소번호       346131 non-null int64\n",
      "상호명          346131 non-null object\n",
      "지점명          50263 non-null object\n",
      "상권업종대분류코드    346131 non-null object\n",
      "상권업종대분류명     346131 non-null object\n",
      "상권업종중분류코드    346131 non-null object\n",
      "상권업종중분류명     346131 non-null object\n",
      "상권업종소분류코드    346131 non-null object\n",
      "상권업종소분류명     346131 non-null object\n",
      "표준산업분류코드     326113 non-null object\n",
      "표준산업분류명      326113 non-null object\n",
      "시도코드         346131 non-null int64\n",
      "시도명          346131 non-null object\n",
      "시군구코드        346131 non-null int64\n",
      "시군구명         346131 non-null object\n",
      "행정동코드        346131 non-null int64\n",
      "행정동명         346131 non-null object\n",
      "법정동코드        346131 non-null int64\n",
      "법정동명         346131 non-null object\n",
      "지번코드         346131 non-null int64\n",
      "대지구분코드       346131 non-null int64\n",
      "대지구분명        346131 non-null object\n",
      "지번본번지        346131 non-null int64\n",
      "지번부번지        279008 non-null float64\n",
      "지번주소         346131 non-null object\n",
      "도로명코드        346131 non-null int64\n",
      "도로명          346131 non-null object\n",
      "건물본번지        346131 non-null int64\n",
      "건물부번지        42072 non-null float64\n",
      "건물관리번호       346131 non-null object\n",
      "건물명          165217 non-null object\n",
      "도로명주소        346131 non-null object\n",
      "구우편번호        346131 non-null int64\n",
      "신우편번호        346129 non-null float64\n",
      "동정보          26032 non-null object\n",
      "층정보          242947 non-null object\n",
      "호정보          48286 non-null object\n",
      "경도           346131 non-null float64\n",
      "위도           346131 non-null float64\n",
      "dtypes: float64(5), int64(11), object(23)\n",
      "memory usage: 105.6+ MB\n"
     ]
    }
   ],
   "source": [
    "\n",
    "df_seoul.info()"
   ]
  },
  {
   "cell_type": "code",
   "execution_count": 34,
   "metadata": {},
   "outputs": [
    {
     "data": {
      "text/html": [
       "<div>\n",
       "<style scoped>\n",
       "    .dataframe tbody tr th:only-of-type {\n",
       "        vertical-align: middle;\n",
       "    }\n",
       "\n",
       "    .dataframe tbody tr th {\n",
       "        vertical-align: top;\n",
       "    }\n",
       "\n",
       "    .dataframe thead th {\n",
       "        text-align: right;\n",
       "    }\n",
       "</style>\n",
       "<table border=\"1\" class=\"dataframe\">\n",
       "  <thead>\n",
       "    <tr style=\"text-align: right;\">\n",
       "      <th></th>\n",
       "      <th>경도</th>\n",
       "      <th>위도</th>\n",
       "    </tr>\n",
       "  </thead>\n",
       "  <tbody>\n",
       "    <tr>\n",
       "      <th>count</th>\n",
       "      <td>346131.000000</td>\n",
       "      <td>346131.000000</td>\n",
       "    </tr>\n",
       "    <tr>\n",
       "      <th>mean</th>\n",
       "      <td>126.994665</td>\n",
       "      <td>37.545310</td>\n",
       "    </tr>\n",
       "    <tr>\n",
       "      <th>std</th>\n",
       "      <td>0.081640</td>\n",
       "      <td>0.049124</td>\n",
       "    </tr>\n",
       "    <tr>\n",
       "      <th>min</th>\n",
       "      <td>126.768169</td>\n",
       "      <td>37.434081</td>\n",
       "    </tr>\n",
       "    <tr>\n",
       "      <th>25%</th>\n",
       "      <td>126.924830</td>\n",
       "      <td>37.504903</td>\n",
       "    </tr>\n",
       "    <tr>\n",
       "      <th>50%</th>\n",
       "      <td>127.008049</td>\n",
       "      <td>37.542095</td>\n",
       "    </tr>\n",
       "    <tr>\n",
       "      <th>75%</th>\n",
       "      <td>127.055645</td>\n",
       "      <td>37.573373</td>\n",
       "    </tr>\n",
       "    <tr>\n",
       "      <th>max</th>\n",
       "      <td>127.182588</td>\n",
       "      <td>37.692398</td>\n",
       "    </tr>\n",
       "  </tbody>\n",
       "</table>\n",
       "</div>"
      ],
      "text/plain": [
       "                  경도             위도\n",
       "count  346131.000000  346131.000000\n",
       "mean      126.994665      37.545310\n",
       "std         0.081640       0.049124\n",
       "min       126.768169      37.434081\n",
       "25%       126.924830      37.504903\n",
       "50%       127.008049      37.542095\n",
       "75%       127.055645      37.573373\n",
       "max       127.182588      37.692398"
      ]
     },
     "execution_count": 34,
     "metadata": {},
     "output_type": "execute_result"
    }
   ],
   "source": [
    "df_seoul[['경도','위도']].describe(include=np.number)"
   ]
  },
  {
   "cell_type": "code",
   "execution_count": 37,
   "metadata": {},
   "outputs": [
    {
     "data": {
      "image/png": "[encoded data removed]",
      "text/plain": [
       "<Figure size 640x480 with 1 Axes>"
      ]
     },
     "metadata": {},
     "output_type": "display_data"
    },
    {
     "data": {
      "text/plain": [
       "<ggplot: (156943809877)>"
      ]
     },
     "execution_count": 37,
     "metadata": {},
     "output_type": "execute_result"
    }
   ],
   "source": [
    "(ggplot(df_seoul)\n",
    " + aes('상권업종대분류명')\n",
    " + geom_bar(fill='#8181F7')\n",
    " + ggtitle('상권업종대분류명')\n",
    " + coord_flip()\n",
    " + theme(text=element_text(family=font_name), axis_text_x = element_text(rotation=60)))"
   ]
  },
  {
   "cell_type": "code",
   "execution_count": 40,
   "metadata": {},
   "outputs": [
    {
     "data": {
      "text/plain": [
       "(113212, 39)"
      ]
     },
     "execution_count": 40,
     "metadata": {},
     "output_type": "execute_result"
    }
   ],
   "source": [
    "df_food = df_seoul.loc[df_seoul['상권업종대분류명'].str.contains('음식')]\n",
    "df_food.shape"
   ]
  },
  {
   "cell_type": "code",
   "execution_count": 41,
   "metadata": {},
   "outputs": [
    {
     "data": {
      "image/png": "[encoded data removed]",
      "text/plain": [
       "<Figure size 640x480 with 1 Axes>"
      ]
     },
     "metadata": {},
     "output_type": "display_data"
    },
    {
     "data": {
      "text/plain": [
       "<ggplot: (156943801692)>"
      ]
     },
     "execution_count": 41,
     "metadata": {},
     "output_type": "execute_result"
    }
   ],
   "source": [
    "(ggplot(df_food)\n",
    " + aes('상권업종중분류명')\n",
    " + geom_bar(fill='#817FEE')\n",
    " + ggtitle('상권업종중분류명')\n",
    " + coord_flip()\n",
    " + theme(text=element_text(family=font_name),\n",
    "        axis_text_x=element_text(rotation=60))\n",
    ")"
   ]
  },
  {
   "cell_type": "code",
   "execution_count": 42,
   "metadata": {},
   "outputs": [
    {
     "data": {
      "text/plain": [
       "(4824, 39)"
      ]
     },
     "execution_count": 42,
     "metadata": {},
     "output_type": "execute_result"
    }
   ],
   "source": [
    "df_fast_food = df_seoul.loc[df_seoul['상권업종중분류명'] =='패스트푸드']\n",
    "df_fast_food.shape"
   ]
  },
  {
   "cell_type": "code",
   "execution_count": 44,
   "metadata": {},
   "outputs": [
    {
     "data": {
      "text/plain": [
       "Index(['상가업소번호', '상호명', '지점명', '상권업종대분류코드', '상권업종대분류명', '상권업종중분류코드',\n",
       "       '상권업종중분류명', '상권업종소분류코드', '상권업종소분류명', '표준산업분류코드', '표준산업분류명', '시도코드',\n",
       "       '시도명', '시군구코드', '시군구명', '행정동코드', '행정동명', '법정동코드', '법정동명', '지번코드',\n",
       "       '대지구분코드', '대지구분명', '지번본번지', '지번부번지', '지번주소', '도로명코드', '도로명', '건물본번지',\n",
       "       '건물부번지', '건물관리번호', '건물명', '도로명주소', '구우편번호', '신우편번호', '동정보', '층정보',\n",
       "       '호정보', '경도', '위도'],\n",
       "      dtype='object')"
      ]
     },
     "execution_count": 44,
     "metadata": {},
     "output_type": "execute_result"
    }
   ],
   "source": [
    "df_food.columns"
   ]
  },
  {
   "cell_type": "code",
   "execution_count": 45,
   "metadata": {},
   "outputs": [
    {
     "data": {
      "text/plain": [
       "array(['피자마루', '롯데리아', '메가박스상봉', ..., '훌랄라참숯바베큐', '리코푸드코리아', '한스'],\n",
       "      dtype=object)"
      ]
     },
     "execution_count": 45,
     "metadata": {},
     "output_type": "execute_result"
    }
   ],
   "source": [
    "df_fast_food['상호명'].unique()"
   ]
  },
  {
   "cell_type": "markdown",
   "metadata": {},
   "source": [
    "## 베스킨라빈스와 던킨도너츠 입지분석"
   ]
  },
  {
   "cell_type": "code",
   "execution_count": 46,
   "metadata": {},
   "outputs": [
    {
     "data": {
      "text/plain": [
       "(446, 39)"
      ]
     },
     "execution_count": 46,
     "metadata": {},
     "output_type": "execute_result"
    }
   ],
   "source": [
    "df_31 = df_seoul[df_seoul['상호명'].str.contains('배스킨|던킨')].copy()\n",
    "df_31.shape"
   ]
  },
  {
   "cell_type": "code",
   "execution_count": 48,
   "metadata": {},
   "outputs": [
    {
     "data": {
      "text/plain": [
       "(446, 10)"
      ]
     },
     "execution_count": 48,
     "metadata": {},
     "output_type": "execute_result"
    }
   ],
   "source": [
    "df_31 = df_31[['상호명', '지점명', '상권업종대분류명', '상권업종중분류명', \n",
    "               '지번주소', '도로명주소',  '위도', '경도', '시군구명', '행정동명']].copy()\n",
    "df_31.shape"
   ]
  },
  {
   "cell_type": "code",
   "execution_count": 49,
   "metadata": {},
   "outputs": [
    {
     "data": {
      "text/html": [
       "<div>\n",
       "<style scoped>\n",
       "    .dataframe tbody tr th:only-of-type {\n",
       "        vertical-align: middle;\n",
       "    }\n",
       "\n",
       "    .dataframe tbody tr th {\n",
       "        vertical-align: top;\n",
       "    }\n",
       "\n",
       "    .dataframe thead th {\n",
       "        text-align: right;\n",
       "    }\n",
       "</style>\n",
       "<table border=\"1\" class=\"dataframe\">\n",
       "  <thead>\n",
       "    <tr style=\"text-align: right;\">\n",
       "      <th></th>\n",
       "      <th>상호명</th>\n",
       "      <th>지점명</th>\n",
       "      <th>상권업종대분류명</th>\n",
       "      <th>상권업종중분류명</th>\n",
       "      <th>지번주소</th>\n",
       "      <th>도로명주소</th>\n",
       "      <th>위도</th>\n",
       "      <th>경도</th>\n",
       "      <th>시군구명</th>\n",
       "      <th>행정동명</th>\n",
       "    </tr>\n",
       "  </thead>\n",
       "  <tbody>\n",
       "    <tr>\n",
       "      <th>77</th>\n",
       "      <td>배스킨라빈스</td>\n",
       "      <td>관악구청점</td>\n",
       "      <td>음식</td>\n",
       "      <td>패스트푸드</td>\n",
       "      <td>서울특별시 관악구 봉천동 863-13</td>\n",
       "      <td>서울특별시 관악구 관악로 161</td>\n",
       "      <td>37.479599</td>\n",
       "      <td>126.952166</td>\n",
       "      <td>관악구</td>\n",
       "      <td>청룡동</td>\n",
       "    </tr>\n",
       "    <tr>\n",
       "      <th>1545</th>\n",
       "      <td>던킨도너츠테크노마트점</td>\n",
       "      <td>테크노마트점</td>\n",
       "      <td>음식</td>\n",
       "      <td>패스트푸드</td>\n",
       "      <td>서울특별시 광진구 구의동 546-4</td>\n",
       "      <td>서울특별시 광진구 광나루로56길 85</td>\n",
       "      <td>37.535713</td>\n",
       "      <td>127.095681</td>\n",
       "      <td>광진구</td>\n",
       "      <td>구의3동</td>\n",
       "    </tr>\n",
       "    <tr>\n",
       "      <th>1881</th>\n",
       "      <td>던킨도너츠창동하나로</td>\n",
       "      <td>NaN</td>\n",
       "      <td>음식</td>\n",
       "      <td>패스트푸드</td>\n",
       "      <td>서울특별시 도봉구 창동 1-10</td>\n",
       "      <td>서울특별시 도봉구 마들로11길 20</td>\n",
       "      <td>37.655101</td>\n",
       "      <td>127.050818</td>\n",
       "      <td>도봉구</td>\n",
       "      <td>창4동</td>\n",
       "    </tr>\n",
       "    <tr>\n",
       "      <th>1910</th>\n",
       "      <td>던킨도너츠용산민자역사2호</td>\n",
       "      <td>NaN</td>\n",
       "      <td>음식</td>\n",
       "      <td>패스트푸드</td>\n",
       "      <td>서울특별시 용산구 한강로3가 40-999</td>\n",
       "      <td>서울특별시 용산구 한강대로21나길 7</td>\n",
       "      <td>37.527903</td>\n",
       "      <td>126.963223</td>\n",
       "      <td>용산구</td>\n",
       "      <td>한강로동</td>\n",
       "    </tr>\n",
       "    <tr>\n",
       "      <th>2412</th>\n",
       "      <td>던킨도너츠</td>\n",
       "      <td>잠실본동점</td>\n",
       "      <td>음식</td>\n",
       "      <td>패스트푸드</td>\n",
       "      <td>서울특별시 송파구 잠실동 242-9</td>\n",
       "      <td>서울특별시 송파구 석촌호수로 118</td>\n",
       "      <td>37.507431</td>\n",
       "      <td>127.090005</td>\n",
       "      <td>송파구</td>\n",
       "      <td>잠실본동</td>\n",
       "    </tr>\n",
       "  </tbody>\n",
       "</table>\n",
       "</div>"
      ],
      "text/plain": [
       "                상호명     지점명 상권업종대분류명 상권업종중분류명                    지번주소  \\\n",
       "77           배스킨라빈스   관악구청점       음식    패스트푸드    서울특별시 관악구 봉천동 863-13   \n",
       "1545    던킨도너츠테크노마트점  테크노마트점       음식    패스트푸드     서울특별시 광진구 구의동 546-4   \n",
       "1881     던킨도너츠창동하나로     NaN       음식    패스트푸드       서울특별시 도봉구 창동 1-10   \n",
       "1910  던킨도너츠용산민자역사2호     NaN       음식    패스트푸드  서울특별시 용산구 한강로3가 40-999   \n",
       "2412          던킨도너츠   잠실본동점       음식    패스트푸드     서울특별시 송파구 잠실동 242-9   \n",
       "\n",
       "                     도로명주소         위도          경도 시군구명  행정동명  \n",
       "77       서울특별시 관악구 관악로 161  37.479599  126.952166  관악구   청룡동  \n",
       "1545  서울특별시 광진구 광나루로56길 85  37.535713  127.095681  광진구  구의3동  \n",
       "1881   서울특별시 도봉구 마들로11길 20  37.655101  127.050818  도봉구   창4동  \n",
       "1910  서울특별시 용산구 한강대로21나길 7  37.527903  126.963223  용산구  한강로동  \n",
       "2412   서울특별시 송파구 석촌호수로 118  37.507431  127.090005  송파구  잠실본동  "
      ]
     },
     "execution_count": 49,
     "metadata": {},
     "output_type": "execute_result"
    }
   ],
   "source": [
    "df_31.head()"
   ]
  },
  {
   "cell_type": "code",
   "execution_count": 50,
   "metadata": {},
   "outputs": [
    {
     "data": {
      "text/plain": [
       "배스킨라빈스31               108\n",
       "던킨도너츠                   86\n",
       "배스킨라빈스                  46\n",
       "던킨도넛                     4\n",
       "배스킨라빈스31서울대점             1\n",
       "배스킨라빈스청량리역사점             1\n",
       "배스킨라빈스31방학역점             1\n",
       "던킨&아트샵                   1\n",
       "던킨도너츠홍제역점                1\n",
       "배스킨라빈스31위례중앙점            1\n",
       "던킨도너츠교대점                 1\n",
       "던킨도너츠수서역점                1\n",
       "배스킨라빈스31둔촌역점             1\n",
       "배스킨라빈스31CAFE31광화문점       1\n",
       "국제흥업개발던킨도너츠용산센트럴점        1\n",
       "배스킨라빈스31안국역점             1\n",
       "배스킨라빈스31대치2호점            1\n",
       "배스킨라빈스31구로구청점            1\n",
       "배스킨라빈스31북가좌점             1\n",
       "배스킨라빈스31월곡홈플러스점          1\n",
       "배스킨라빈스31둔촌푸르지오점          1\n",
       "던킨도너츠시청역                 1\n",
       "배스킨라빈스용산후암               1\n",
       "배스킨라빈스31전농동아점            1\n",
       "배스킨라빈스위례아이파크점            1\n",
       "던킨도너츠합정역사점               1\n",
       "배스킨라빈스서울역2호              1\n",
       "용산역이마트배스킨라빈스             1\n",
       "배스킨라빈스31잠실월드점            1\n",
       "배스킨라빈스31굽은다리역점           1\n",
       "                      ... \n",
       "배스킨라빈스31개봉중앙점            1\n",
       "비알코리아던킨도너츠서여             1\n",
       "던킨도너츠용산민자역사2호            1\n",
       "던킨도너츠공릉역점                1\n",
       "코레일유통던킨도너츠점              1\n",
       "던킨도너츠신림양지병원점             1\n",
       "배스킨라빈스31성동금호점            1\n",
       "배스킨라빈스31가락본동점            1\n",
       "던킨도너츠동대문                 1\n",
       "배스킨라빈스31서초점              1\n",
       "배스킨라빈스31노원로데오점           1\n",
       "비알코리아던킨도너츠중              1\n",
       "배스킨라빈스서울베이비키즈페어임시부스      1\n",
       "던킨도너츠답십리역점               1\n",
       "배스킨라빈스31홍은동점             1\n",
       "배스킨라빈스31미아삼거리점           1\n",
       "배스킨라빈스31반포삼호가든점          1\n",
       "배스킨라빈스31불광현대점            1\n",
       "배스킨라빈스31중계은행점            1\n",
       "배스킨라빈스31보문역점             1\n",
       "성북역맞이방던킨도너츠              1\n",
       "배스킨라빈스동대문홈플러스            1\n",
       "배스킨라빈스31신도림홈플러스점         1\n",
       "배스킨라빈스31당산역점             1\n",
       "배스킨라빈스31신정점              1\n",
       "배스킨라빈스31신내홈플러스점          1\n",
       "배스킨라빈스31쌍문점              1\n",
       "배스킨라빈스영등포문래              1\n",
       "배스킨라빈스31구로천왕역점           1\n",
       "배스킨라빈스31미아역점             1\n",
       "Name: 상호명, Length: 206, dtype: int64"
      ]
     },
     "execution_count": 50,
     "metadata": {},
     "output_type": "execute_result"
    }
   ],
   "source": [
    "df_31['상호명'].value_counts()"
   ]
  },
  {
   "cell_type": "code",
   "execution_count": 51,
   "metadata": {},
   "outputs": [],
   "source": [
    "df_31['브랜드명'] =''"
   ]
  },
  {
   "cell_type": "code",
   "execution_count": 52,
   "metadata": {},
   "outputs": [
    {
     "data": {
      "text/html": [
       "<div>\n",
       "<style scoped>\n",
       "    .dataframe tbody tr th:only-of-type {\n",
       "        vertical-align: middle;\n",
       "    }\n",
       "\n",
       "    .dataframe tbody tr th {\n",
       "        vertical-align: top;\n",
       "    }\n",
       "\n",
       "    .dataframe thead th {\n",
       "        text-align: right;\n",
       "    }\n",
       "</style>\n",
       "<table border=\"1\" class=\"dataframe\">\n",
       "  <thead>\n",
       "    <tr style=\"text-align: right;\">\n",
       "      <th></th>\n",
       "      <th>상호명</th>\n",
       "      <th>브랜드명</th>\n",
       "    </tr>\n",
       "  </thead>\n",
       "  <tbody>\n",
       "    <tr>\n",
       "      <th>77</th>\n",
       "      <td>배스킨라빈스</td>\n",
       "      <td></td>\n",
       "    </tr>\n",
       "    <tr>\n",
       "      <th>1545</th>\n",
       "      <td>던킨도너츠테크노마트점</td>\n",
       "      <td></td>\n",
       "    </tr>\n",
       "    <tr>\n",
       "      <th>1881</th>\n",
       "      <td>던킨도너츠창동하나로</td>\n",
       "      <td></td>\n",
       "    </tr>\n",
       "    <tr>\n",
       "      <th>1910</th>\n",
       "      <td>던킨도너츠용산민자역사2호</td>\n",
       "      <td></td>\n",
       "    </tr>\n",
       "    <tr>\n",
       "      <th>2412</th>\n",
       "      <td>던킨도너츠</td>\n",
       "      <td></td>\n",
       "    </tr>\n",
       "  </tbody>\n",
       "</table>\n",
       "</div>"
      ],
      "text/plain": [
       "                상호명 브랜드명\n",
       "77           배스킨라빈스     \n",
       "1545    던킨도너츠테크노마트점     \n",
       "1881     던킨도너츠창동하나로     \n",
       "1910  던킨도너츠용산민자역사2호     \n",
       "2412          던킨도너츠     "
      ]
     },
     "execution_count": 52,
     "metadata": {},
     "output_type": "execute_result"
    }
   ],
   "source": [
    "df_31[['상호명', '브랜드명']].head()"
   ]
  },
  {
   "cell_type": "code",
   "execution_count": 53,
   "metadata": {},
   "outputs": [],
   "source": [
    "df_31.loc[df_31['상호명'].str.contains('배스킨'), '브랜드명'] = '배스킨라빈스'\n",
    "df_31.loc[df_31['상호명'].str.contains('던킨'),'브랜드명'] = '던킨도너츠'"
   ]
  },
  {
   "cell_type": "code",
   "execution_count": 55,
   "metadata": {},
   "outputs": [
    {
     "data": {
      "text/html": [
       "<div>\n",
       "<style scoped>\n",
       "    .dataframe tbody tr th:only-of-type {\n",
       "        vertical-align: middle;\n",
       "    }\n",
       "\n",
       "    .dataframe tbody tr th {\n",
       "        vertical-align: top;\n",
       "    }\n",
       "\n",
       "    .dataframe thead th {\n",
       "        text-align: right;\n",
       "    }\n",
       "</style>\n",
       "<table border=\"1\" class=\"dataframe\">\n",
       "  <thead>\n",
       "    <tr style=\"text-align: right;\">\n",
       "      <th></th>\n",
       "      <th>상호명</th>\n",
       "      <th>브랜드명</th>\n",
       "    </tr>\n",
       "  </thead>\n",
       "  <tbody>\n",
       "    <tr>\n",
       "      <th>77</th>\n",
       "      <td>배스킨라빈스</td>\n",
       "      <td>배스킨라빈스</td>\n",
       "    </tr>\n",
       "    <tr>\n",
       "      <th>1545</th>\n",
       "      <td>던킨도너츠테크노마트점</td>\n",
       "      <td>던킨도너츠</td>\n",
       "    </tr>\n",
       "    <tr>\n",
       "      <th>1881</th>\n",
       "      <td>던킨도너츠창동하나로</td>\n",
       "      <td>던킨도너츠</td>\n",
       "    </tr>\n",
       "    <tr>\n",
       "      <th>1910</th>\n",
       "      <td>던킨도너츠용산민자역사2호</td>\n",
       "      <td>던킨도너츠</td>\n",
       "    </tr>\n",
       "    <tr>\n",
       "      <th>2412</th>\n",
       "      <td>던킨도너츠</td>\n",
       "      <td>던킨도너츠</td>\n",
       "    </tr>\n",
       "  </tbody>\n",
       "</table>\n",
       "</div>"
      ],
      "text/plain": [
       "                상호명    브랜드명\n",
       "77           배스킨라빈스  배스킨라빈스\n",
       "1545    던킨도너츠테크노마트점   던킨도너츠\n",
       "1881     던킨도너츠창동하나로   던킨도너츠\n",
       "1910  던킨도너츠용산민자역사2호   던킨도너츠\n",
       "2412          던킨도너츠   던킨도너츠"
      ]
     },
     "execution_count": 55,
     "metadata": {},
     "output_type": "execute_result"
    }
   ],
   "source": [
    "df_31[['상호명','브랜드명']].head()"
   ]
  },
  {
   "cell_type": "code",
   "execution_count": 58,
   "metadata": {},
   "outputs": [
    {
     "data": {
      "text/plain": [
       "배스킨라빈스    298\n",
       "던킨도너츠     148\n",
       "Name: 브랜드명, dtype: int64"
      ]
     },
     "execution_count": 58,
     "metadata": {},
     "output_type": "execute_result"
    }
   ],
   "source": [
    "df_31_group_count = df_31['브랜드명'].value_counts()\n",
    "df_31_group_count"
   ]
  },
  {
   "cell_type": "code",
   "execution_count": 61,
   "metadata": {},
   "outputs": [
    {
     "name": "stdout",
     "output_type": "stream",
     "text": [
      "제공된 데이터로 봤을 때 서울에 배스킨 매장이 던킨보다 2.01 배 정도 더 많다\n"
     ]
    }
   ],
   "source": [
    "df_31_ratio = df_31_group_count[0]/df_31_group_count[1]\n",
    "print('제공된 데이터로 봤을 때 서울에 배스킨 매장이 던킨보다 {0:.2f} 배 정도 더 많다'. format(df_31_ratio))"
   ]
  },
  {
   "cell_type": "code",
   "execution_count": 62,
   "metadata": {},
   "outputs": [
    {
     "name": "stdout",
     "output_type": "stream",
     "text": [
      "<class 'pandas.core.frame.DataFrame'>\n",
      "Int64Index: 446 entries, 77 to 500522\n",
      "Data columns (total 11 columns):\n",
      "상호명         446 non-null object\n",
      "지점명         376 non-null object\n",
      "상권업종대분류명    446 non-null object\n",
      "상권업종중분류명    446 non-null object\n",
      "지번주소        446 non-null object\n",
      "도로명주소       446 non-null object\n",
      "위도          446 non-null float64\n",
      "경도          446 non-null float64\n",
      "시군구명        446 non-null object\n",
      "행정동명        446 non-null object\n",
      "브랜드명        446 non-null object\n",
      "dtypes: float64(2), object(9)\n",
      "memory usage: 41.8+ KB\n"
     ]
    }
   ],
   "source": [
    "df_31.info()"
   ]
  },
  {
   "cell_type": "code",
   "execution_count": null,
   "metadata": {},
   "outputs": [],
   "source": []
  }
 ],
 "metadata": {
  "kernelspec": {
   "display_name": "Python 3",
   "language": "python",
   "name": "python3"
  },
  "language_info": {
   "codemirror_mode": {
    "name": "ipython",
    "version": 3
   },
   "file_extension": ".py",
   "mimetype": "text/x-python",
   "name": "python",
   "nbconvert_exporter": "python",
   "pygments_lexer": "ipython3",
   "version": "3.6.6"
  }
 },
 "nbformat": 4,
 "nbformat_minor": 2
}
